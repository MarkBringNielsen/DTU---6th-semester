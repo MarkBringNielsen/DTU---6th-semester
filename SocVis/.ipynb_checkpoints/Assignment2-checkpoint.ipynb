{
 "cells": [
  {
   "cell_type": "markdown",
   "metadata": {},
   "source": [
    "\n",
    "**Part 1: Questions to text and lectures.**\n",
    "\n",
    "A) Please answer my questions to the Segal and Heer paper we read during lecture 7 and 8.\n",
    "\n",
    "* What is the Oxford English Dictionary's defintion of a narrative?\n",
    "* What is your favorite visualization among the examples in section 3? Explain why in a few words.\n",
    "* What's the point of Figure 7?\n",
    "* Use Figure 7 to find the most common design choice within each category for the Visual narrative and Narrative structure (the categories within visual narrative are 'visual structuring', 'highlighting', etc).\n",
    "* Check out Figure 8 and section 4.3. What is your favorite genre of narrative visualization? Why? What is your least favorite genre? Why?\n",
    "\n",
    "B) Also please answer the questions to my talk on explanatory data visualization\n",
    "\n",
    "* What are the three key elements to keep in mind when you design an explanatory visualization?\n",
    "* In the video I talk about (1) overview first, (2) zoom and filter, (3) details on demand.\n",
    "* Go online and find a visualization that follows these principles (don't use one from the video).\n",
    "* Explain how it does achieves (1)-(3). It might be useful to use screenshots to illustrate your explanation.\n",
    "* Explain in your own words: How is explanatory data analysis different from exploratory data analysis?\n",
    "\n"
   ]
  },
  {
   "cell_type": "code",
   "execution_count": 1,
   "metadata": {},
   "outputs": [],
   "source": [
    "import pandas as pd\n",
    "import numpy as np\n",
    "import seaborn as sns\n",
    "import matplotlib.pyplot as plt\n",
    "from sklearn.ensemble import RandomForestClassifier\n",
    "from sklearn.svm import SVC\n",
    "from sklearn import svm\n",
    "from sklearn.neural_network import MLPClassifier\n",
    "#from sklearn.linear_model import SGDClassifier\n",
    "from sklearn.metrics import confusion_matrix, classification_report\n",
    "from sklearn.preprocessing import StandardScaler, LabelEncoder\n",
    "from sklearn.model_selection import train_test_split\n",
    "%matplotlib inline\n",
    "\n",
    "df = pd.read_csv('../../SF_Police_Reports.csv')"
   ]
  },
  {
   "cell_type": "markdown",
   "metadata": {},
   "source": [
    "\n",
    "**Part 2: Random forest and weather**\n",
    "\n",
    "The aim here is to recreate the work you did in Part 1 and 2 of the Week 7 lecture. I've phrased things differently relative to the exercise to make the purpose more clear.\n",
    "\n",
    "Part 2A: Random forest binary classification.\n",
    "\n",
    "* Using the and instructions and material from Week 7, build a random forest classifier to distinguish between two types (you choose) of crime using on spatio-temporal (where/when) features of data describing the two crimes. When you're done, you should be able to give the classifier a place and a time, and it should tell you which of the two types of crime happened there.\n",
    " * Explain about your choices for training/test data, features, and encoding. (You decide how to present your results, but here are some example topics to consider: Did you balance the training data? What are the pros/cons of balancing? Do you think your model is overfitting? Did you choose to do cross-validation? Which specific features did you end up using? Why? Which features (if any) did you one-hot encode? Why ... or why not?))\n",
    " * Report accuracy. Discuss the model performance.\n",
    "\n",
    "Part 2B: Info from weather features.\n",
    "\n",
    "* Now add features from weather data to your random forest.\n",
    " * Report accuracy.\n",
    " * Discuss how the model performance changes relative to the version with no weather data.\n",
    " * Discuss what you have learned about crime from including weather data in your model.\n",
    "\n"
   ]
  },
  {
   "cell_type": "code",
   "execution_count": null,
   "metadata": {},
   "outputs": [],
   "source": [
    "forest_df = df.copy()\n",
    "datetime_format = \"%Y/%m/%d, %H:%M:%S\"\n",
    "forest_df['DateTime'] = pd.to_datetime(forest_df['Date'] + ' ' + forest_df['Time'])"
   ]
  },
  {
   "cell_type": "code",
   "execution_count": null,
   "metadata": {},
   "outputs": [],
   "source": [
    "forest_df['HourOfWeek'] = forest_df['DateTime'].dt.dayofweek * 24 + (forest_df['DateTime'].dt.hour + 1)\n",
    "forest_df['HourOfDay'] = forest_df['DateTime'].dt.hour\n",
    "forest_df['MonthOfYear'] = forest_df['DateTime'].dt.month\n",
    "forest_df['DayOfWeek'] = forest_df['DateTime'].dt.dayofweek\n",
    "districts = forest_df['PdDistrict'].unique()\n",
    "print(districts)"
   ]
  },
  {
   "cell_type": "code",
   "execution_count": null,
   "metadata": {},
   "outputs": [],
   "source": [
    "forest_df['Category'].unique()\n",
    "crime_mask = (forest_df['Category'].isin(['ASSAULT', 'ROBBERY']))\n",
    "assault_or_robbery = forest_df.loc[crime_mask]\n",
    "\n",
    "assault_or_robbery.isnull().sum()"
   ]
  },
  {
   "cell_type": "code",
   "execution_count": null,
   "metadata": {},
   "outputs": [],
   "source": [
    "label_crime_type = LabelEncoder()\n",
    "assault_or_robbery['Category'] = label_crime_type.fit_transform(assault_or_robbery['Category'])"
   ]
  },
  {
   "cell_type": "code",
   "execution_count": null,
   "metadata": {},
   "outputs": [],
   "source": [
    "assault_or_robbery.head(10)"
   ]
  },
  {
   "cell_type": "code",
   "execution_count": null,
   "metadata": {},
   "outputs": [],
   "source": [
    "assault_or_robbery['Category'].value_counts()"
   ]
  },
  {
   "cell_type": "code",
   "execution_count": null,
   "metadata": {},
   "outputs": [],
   "source": [
    "sns.countplot(assault_or_robbery['Category'])\n"
   ]
  },
  {
   "cell_type": "code",
   "execution_count": null,
   "metadata": {},
   "outputs": [],
   "source": [
    "sns.countplot(forest_df.loc[crime_mask]['Category'])"
   ]
  },
  {
   "cell_type": "code",
   "execution_count": null,
   "metadata": {},
   "outputs": [],
   "source": [
    "#Npw seperate the dataset as response variable and feature variables\n",
    "\n",
    "X = assault_or_robbery[['MonthOfYear','DayOfWeek','HourOfDay', 'X', 'Y']].copy()\n",
    "y = assault_or_robbery['Category'].copy()"
   ]
  },
  {
   "cell_type": "code",
   "execution_count": null,
   "metadata": {},
   "outputs": [],
   "source": [
    "X_train, X_test, y_train, y_test = train_test_split(X, y, test_size = 0.2, random_state = 42)"
   ]
  },
  {
   "cell_type": "code",
   "execution_count": null,
   "metadata": {},
   "outputs": [],
   "source": [
    "sc = StandardScaler()\n",
    "X_train = sc.fit_transform(X_train)\n",
    "X_test = sc.transform(X_test)"
   ]
  },
  {
   "cell_type": "code",
   "execution_count": null,
   "metadata": {},
   "outputs": [],
   "source": [
    "rfc = RandomForestClassifier(n_estimators=200)\n",
    "rfc.fit(X_train, y_train)\n",
    "pred_rfc = rfc.predict(X_test)"
   ]
  },
  {
   "cell_type": "code",
   "execution_count": null,
   "metadata": {},
   "outputs": [],
   "source": [
    "#Let's see how well our model performed\n",
    "print(classification_report(y_test, pred_rfc))"
   ]
  },
  {
   "cell_type": "code",
   "execution_count": null,
   "metadata": {},
   "outputs": [],
   "source": []
  },
  {
   "cell_type": "code",
   "execution_count": null,
   "metadata": {},
   "outputs": [],
   "source": [
    "weather_df = pd.read_csv('../../weather_data.csv')\n",
    "weather_df['date'] = pd.to_datetime(weather_df['date'])\n",
    "weather_df['HourOfWeek'] = weather_df['date'].dt.dayofweek * 24 + (weather_df['date'].dt.hour + 1)"
   ]
  },
  {
   "cell_type": "code",
   "execution_count": null,
   "metadata": {},
   "outputs": [],
   "source": [
    "weather_df.head(10)"
   ]
  },
  {
   "cell_type": "code",
   "execution_count": null,
   "metadata": {},
   "outputs": [],
   "source": [
    "pd.merge(X, weather_df, on=['HourOfWeek', 'MonthOfYear', 'DayOfWeek']).head()"
   ]
  },
  {
   "cell_type": "markdown",
   "metadata": {},
   "source": [
    "\n",
    "**Part 3: Data visualization**\n",
    "\n",
    "* Create the Bokeh visualization from Part 2 of the Week 8 Lecture, displayed in a beautiful .gif below.\n",
    "* Provide nice comments for your code. Don't just use the # inline comments, but the full Notebook markdown capabilities and explain what you're doing.\n",
    "\n",
    "Movie\n"
   ]
  },
  {
   "cell_type": "code",
   "execution_count": 2,
   "metadata": {},
   "outputs": [],
   "source": [
    "import bokeh.plotting as bp\n",
    "bokeh_df = df.copy()"
   ]
  },
  {
   "cell_type": "code",
   "execution_count": 3,
   "metadata": {},
   "outputs": [
    {
     "data": {
      "text/html": [
       "<div>\n",
       "<style scoped>\n",
       "    .dataframe tbody tr th:only-of-type {\n",
       "        vertical-align: middle;\n",
       "    }\n",
       "\n",
       "    .dataframe tbody tr th {\n",
       "        vertical-align: top;\n",
       "    }\n",
       "\n",
       "    .dataframe thead th {\n",
       "        text-align: right;\n",
       "    }\n",
       "</style>\n",
       "<table border=\"1\" class=\"dataframe\">\n",
       "  <thead>\n",
       "    <tr style=\"text-align: right;\">\n",
       "      <th></th>\n",
       "      <th>IncidntNum</th>\n",
       "      <th>Category</th>\n",
       "      <th>Descript</th>\n",
       "      <th>DayOfWeek</th>\n",
       "      <th>Date</th>\n",
       "      <th>Time</th>\n",
       "      <th>PdDistrict</th>\n",
       "      <th>Resolution</th>\n",
       "      <th>Address</th>\n",
       "      <th>X</th>\n",
       "      <th>Y</th>\n",
       "      <th>Location</th>\n",
       "      <th>PdId</th>\n",
       "    </tr>\n",
       "  </thead>\n",
       "  <tbody>\n",
       "    <tr>\n",
       "      <th>0</th>\n",
       "      <td>146196161</td>\n",
       "      <td>NON-CRIMINAL</td>\n",
       "      <td>LOST PROPERTY</td>\n",
       "      <td>Tuesday</td>\n",
       "      <td>2014-09-23</td>\n",
       "      <td>2020-03-30 01:00:00</td>\n",
       "      <td>SOUTHERN</td>\n",
       "      <td>NONE</td>\n",
       "      <td>800 Block of BRYANT ST</td>\n",
       "      <td>-122.403405</td>\n",
       "      <td>37.775421</td>\n",
       "      <td>POINT (-122.403404791479 37.775420706711)</td>\n",
       "      <td>14619616171000</td>\n",
       "    </tr>\n",
       "    <tr>\n",
       "      <th>1</th>\n",
       "      <td>150045675</td>\n",
       "      <td>ASSAULT</td>\n",
       "      <td>BATTERY</td>\n",
       "      <td>Thursday</td>\n",
       "      <td>2015-01-15</td>\n",
       "      <td>2020-03-30 17:00:00</td>\n",
       "      <td>TARAVAL</td>\n",
       "      <td>NONE</td>\n",
       "      <td>1800 Block of VICENTE ST</td>\n",
       "      <td>-122.485604</td>\n",
       "      <td>37.738821</td>\n",
       "      <td>POINT (-122.48560378101 37.7388214326705)</td>\n",
       "      <td>15004567504134</td>\n",
       "    </tr>\n",
       "    <tr>\n",
       "      <th>2</th>\n",
       "      <td>140632022</td>\n",
       "      <td>SUSPICIOUS OCC</td>\n",
       "      <td>INVESTIGATIVE DETENTION</td>\n",
       "      <td>Wednesday</td>\n",
       "      <td>2014-07-30</td>\n",
       "      <td>2020-03-30 09:32:00</td>\n",
       "      <td>BAYVIEW</td>\n",
       "      <td>NONE</td>\n",
       "      <td>100 Block of GILLETTE AV</td>\n",
       "      <td>-122.396535</td>\n",
       "      <td>37.710660</td>\n",
       "      <td>POINT (-122.396535107224 37.7106603302503)</td>\n",
       "      <td>14063202264085</td>\n",
       "    </tr>\n",
       "    <tr>\n",
       "      <th>3</th>\n",
       "      <td>150383259</td>\n",
       "      <td>ASSAULT</td>\n",
       "      <td>BATTERY</td>\n",
       "      <td>Saturday</td>\n",
       "      <td>2015-05-02</td>\n",
       "      <td>2020-03-30 23:10:00</td>\n",
       "      <td>BAYVIEW</td>\n",
       "      <td>ARREST, BOOKED</td>\n",
       "      <td>2400 Block of PHELPS ST</td>\n",
       "      <td>-122.400131</td>\n",
       "      <td>37.730093</td>\n",
       "      <td>POINT (-122.400130573297 37.7300925390327)</td>\n",
       "      <td>15038325904134</td>\n",
       "    </tr>\n",
       "    <tr>\n",
       "      <th>4</th>\n",
       "      <td>40753980</td>\n",
       "      <td>OTHER OFFENSES</td>\n",
       "      <td>RECKLESS DRIVING</td>\n",
       "      <td>Friday</td>\n",
       "      <td>2004-07-02</td>\n",
       "      <td>2020-03-30 13:43:00</td>\n",
       "      <td>BAYVIEW</td>\n",
       "      <td>NONE</td>\n",
       "      <td>I-280 / CESAR CHAVEZ ST</td>\n",
       "      <td>-120.500000</td>\n",
       "      <td>90.000000</td>\n",
       "      <td>POINT (-120.5 90)</td>\n",
       "      <td>4075398065020</td>\n",
       "    </tr>\n",
       "  </tbody>\n",
       "</table>\n",
       "</div>"
      ],
      "text/plain": [
       "   IncidntNum        Category                 Descript  DayOfWeek       Date  \\\n",
       "0   146196161    NON-CRIMINAL            LOST PROPERTY    Tuesday 2014-09-23   \n",
       "1   150045675         ASSAULT                  BATTERY   Thursday 2015-01-15   \n",
       "2   140632022  SUSPICIOUS OCC  INVESTIGATIVE DETENTION  Wednesday 2014-07-30   \n",
       "3   150383259         ASSAULT                  BATTERY   Saturday 2015-05-02   \n",
       "4    40753980  OTHER OFFENSES         RECKLESS DRIVING     Friday 2004-07-02   \n",
       "\n",
       "                 Time PdDistrict      Resolution                   Address  \\\n",
       "0 2020-03-30 01:00:00   SOUTHERN            NONE    800 Block of BRYANT ST   \n",
       "1 2020-03-30 17:00:00    TARAVAL            NONE  1800 Block of VICENTE ST   \n",
       "2 2020-03-30 09:32:00    BAYVIEW            NONE  100 Block of GILLETTE AV   \n",
       "3 2020-03-30 23:10:00    BAYVIEW  ARREST, BOOKED   2400 Block of PHELPS ST   \n",
       "4 2020-03-30 13:43:00    BAYVIEW            NONE   I-280 / CESAR CHAVEZ ST   \n",
       "\n",
       "            X          Y                                    Location  \\\n",
       "0 -122.403405  37.775421   POINT (-122.403404791479 37.775420706711)   \n",
       "1 -122.485604  37.738821   POINT (-122.48560378101 37.7388214326705)   \n",
       "2 -122.396535  37.710660  POINT (-122.396535107224 37.7106603302503)   \n",
       "3 -122.400131  37.730093  POINT (-122.400130573297 37.7300925390327)   \n",
       "4 -120.500000  90.000000                           POINT (-120.5 90)   \n",
       "\n",
       "             PdId  \n",
       "0  14619616171000  \n",
       "1  15004567504134  \n",
       "2  14063202264085  \n",
       "3  15038325904134  \n",
       "4   4075398065020  "
      ]
     },
     "execution_count": 3,
     "metadata": {},
     "output_type": "execute_result"
    }
   ],
   "source": [
    "bokeh_df['Date'] = pd.to_datetime(bokeh_df['Date'])\n",
    "bokeh_df['Time'] = pd.to_datetime(bokeh_df['Time'])\n",
    "bokeh_df.head()\n"
   ]
  },
  {
   "cell_type": "code",
   "execution_count": 4,
   "metadata": {},
   "outputs": [
    {
     "data": {
      "text/html": [
       "<div>\n",
       "<style scoped>\n",
       "    .dataframe tbody tr th:only-of-type {\n",
       "        vertical-align: middle;\n",
       "    }\n",
       "\n",
       "    .dataframe tbody tr th {\n",
       "        vertical-align: top;\n",
       "    }\n",
       "\n",
       "    .dataframe thead th {\n",
       "        text-align: right;\n",
       "    }\n",
       "</style>\n",
       "<table border=\"1\" class=\"dataframe\">\n",
       "  <thead>\n",
       "    <tr style=\"text-align: right;\">\n",
       "      <th></th>\n",
       "      <th>IncidntNum</th>\n",
       "      <th>Category</th>\n",
       "      <th>Descript</th>\n",
       "      <th>DayOfWeek</th>\n",
       "      <th>Date</th>\n",
       "      <th>Time</th>\n",
       "      <th>PdDistrict</th>\n",
       "      <th>Resolution</th>\n",
       "      <th>Address</th>\n",
       "      <th>X</th>\n",
       "      <th>Y</th>\n",
       "      <th>Location</th>\n",
       "      <th>PdId</th>\n",
       "    </tr>\n",
       "  </thead>\n",
       "  <tbody>\n",
       "    <tr>\n",
       "      <th>0</th>\n",
       "      <td>146196161</td>\n",
       "      <td>NON-CRIMINAL</td>\n",
       "      <td>LOST PROPERTY</td>\n",
       "      <td>Tuesday</td>\n",
       "      <td>2014-09-23</td>\n",
       "      <td>2020-03-30 01:00:00</td>\n",
       "      <td>SOUTHERN</td>\n",
       "      <td>NONE</td>\n",
       "      <td>800 Block of BRYANT ST</td>\n",
       "      <td>-122.403405</td>\n",
       "      <td>37.775421</td>\n",
       "      <td>POINT (-122.403404791479 37.775420706711)</td>\n",
       "      <td>14619616171000</td>\n",
       "    </tr>\n",
       "    <tr>\n",
       "      <th>1</th>\n",
       "      <td>150045675</td>\n",
       "      <td>ASSAULT</td>\n",
       "      <td>BATTERY</td>\n",
       "      <td>Thursday</td>\n",
       "      <td>2015-01-15</td>\n",
       "      <td>2020-03-30 17:00:00</td>\n",
       "      <td>TARAVAL</td>\n",
       "      <td>NONE</td>\n",
       "      <td>1800 Block of VICENTE ST</td>\n",
       "      <td>-122.485604</td>\n",
       "      <td>37.738821</td>\n",
       "      <td>POINT (-122.48560378101 37.7388214326705)</td>\n",
       "      <td>15004567504134</td>\n",
       "    </tr>\n",
       "    <tr>\n",
       "      <th>2</th>\n",
       "      <td>140632022</td>\n",
       "      <td>SUSPICIOUS OCC</td>\n",
       "      <td>INVESTIGATIVE DETENTION</td>\n",
       "      <td>Wednesday</td>\n",
       "      <td>2014-07-30</td>\n",
       "      <td>2020-03-30 09:32:00</td>\n",
       "      <td>BAYVIEW</td>\n",
       "      <td>NONE</td>\n",
       "      <td>100 Block of GILLETTE AV</td>\n",
       "      <td>-122.396535</td>\n",
       "      <td>37.710660</td>\n",
       "      <td>POINT (-122.396535107224 37.7106603302503)</td>\n",
       "      <td>14063202264085</td>\n",
       "    </tr>\n",
       "    <tr>\n",
       "      <th>3</th>\n",
       "      <td>150383259</td>\n",
       "      <td>ASSAULT</td>\n",
       "      <td>BATTERY</td>\n",
       "      <td>Saturday</td>\n",
       "      <td>2015-05-02</td>\n",
       "      <td>2020-03-30 23:10:00</td>\n",
       "      <td>BAYVIEW</td>\n",
       "      <td>ARREST, BOOKED</td>\n",
       "      <td>2400 Block of PHELPS ST</td>\n",
       "      <td>-122.400131</td>\n",
       "      <td>37.730093</td>\n",
       "      <td>POINT (-122.400130573297 37.7300925390327)</td>\n",
       "      <td>15038325904134</td>\n",
       "    </tr>\n",
       "    <tr>\n",
       "      <th>9</th>\n",
       "      <td>111027676</td>\n",
       "      <td>ASSAULT</td>\n",
       "      <td>BATTERY</td>\n",
       "      <td>Saturday</td>\n",
       "      <td>2011-12-24</td>\n",
       "      <td>2020-03-30 07:00:00</td>\n",
       "      <td>SOUTHERN</td>\n",
       "      <td>NONE</td>\n",
       "      <td>0 Block of DORE ST</td>\n",
       "      <td>-122.412933</td>\n",
       "      <td>37.773927</td>\n",
       "      <td>POINT (-122.412933062384 37.7739274524819)</td>\n",
       "      <td>11102767604134</td>\n",
       "    </tr>\n",
       "  </tbody>\n",
       "</table>\n",
       "</div>"
      ],
      "text/plain": [
       "   IncidntNum        Category                 Descript  DayOfWeek       Date  \\\n",
       "0   146196161    NON-CRIMINAL            LOST PROPERTY    Tuesday 2014-09-23   \n",
       "1   150045675         ASSAULT                  BATTERY   Thursday 2015-01-15   \n",
       "2   140632022  SUSPICIOUS OCC  INVESTIGATIVE DETENTION  Wednesday 2014-07-30   \n",
       "3   150383259         ASSAULT                  BATTERY   Saturday 2015-05-02   \n",
       "9   111027676         ASSAULT                  BATTERY   Saturday 2011-12-24   \n",
       "\n",
       "                 Time PdDistrict      Resolution                   Address  \\\n",
       "0 2020-03-30 01:00:00   SOUTHERN            NONE    800 Block of BRYANT ST   \n",
       "1 2020-03-30 17:00:00    TARAVAL            NONE  1800 Block of VICENTE ST   \n",
       "2 2020-03-30 09:32:00    BAYVIEW            NONE  100 Block of GILLETTE AV   \n",
       "3 2020-03-30 23:10:00    BAYVIEW  ARREST, BOOKED   2400 Block of PHELPS ST   \n",
       "9 2020-03-30 07:00:00   SOUTHERN            NONE        0 Block of DORE ST   \n",
       "\n",
       "            X          Y                                    Location  \\\n",
       "0 -122.403405  37.775421   POINT (-122.403404791479 37.775420706711)   \n",
       "1 -122.485604  37.738821   POINT (-122.48560378101 37.7388214326705)   \n",
       "2 -122.396535  37.710660  POINT (-122.396535107224 37.7106603302503)   \n",
       "3 -122.400131  37.730093  POINT (-122.400130573297 37.7300925390327)   \n",
       "9 -122.412933  37.773927  POINT (-122.412933062384 37.7739274524819)   \n",
       "\n",
       "             PdId  \n",
       "0  14619616171000  \n",
       "1  15004567504134  \n",
       "2  14063202264085  \n",
       "3  15038325904134  \n",
       "9  11102767604134  "
      ]
     },
     "execution_count": 4,
     "metadata": {},
     "output_type": "execute_result"
    }
   ],
   "source": [
    "start_date = '2009-12-31'\n",
    "end_date = '2019-01-01'\n",
    "date_mask = (bokeh_df['Date'] > start_date) & (df['Date'] < end_date)\n",
    "bokeh_df = bokeh_df.loc[date_mask]\n",
    "bokeh_df.head()"
   ]
  },
  {
   "cell_type": "code",
   "execution_count": null,
   "metadata": {},
   "outputs": [],
   "source": [
    "pivot_df = pd.pivot_table(bokeh_df, index=bokeh_df['Time'].dt.hour, values='Category', aggfunc=lambda x:x.sum()/bokeh_df['Category'].sum())\n",
    "\n",
    "pivot_df"
   ]
  },
  {
   "cell_type": "code",
   "execution_count": null,
   "metadata": {},
   "outputs": [],
   "source": [
    "source = ColumnDataSource(pivot_df)"
   ]
  },
  {
   "cell_type": "code",
   "execution_count": null,
   "metadata": {},
   "outputs": [],
   "source": [
    "p = figure"
   ]
  },
  {
   "cell_type": "code",
   "execution_count": null,
   "metadata": {},
   "outputs": [],
   "source": []
  },
  {
   "cell_type": "code",
   "execution_count": null,
   "metadata": {},
   "outputs": [],
   "source": []
  },
  {
   "cell_type": "code",
   "execution_count": null,
   "metadata": {},
   "outputs": [],
   "source": []
  }
 ],
 "metadata": {
  "kernelspec": {
   "display_name": "Python 3",
   "language": "python",
   "name": "python3"
  },
  "language_info": {
   "codemirror_mode": {
    "name": "ipython",
    "version": 3
   },
   "file_extension": ".py",
   "mimetype": "text/x-python",
   "name": "python",
   "nbconvert_exporter": "python",
   "pygments_lexer": "ipython3",
   "version": "3.7.6"
  }
 },
 "nbformat": 4,
 "nbformat_minor": 4
}
