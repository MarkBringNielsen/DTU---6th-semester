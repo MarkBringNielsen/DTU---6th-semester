{
 "cells": [
  {
   "cell_type": "markdown",
   "metadata": {},
   "source": [
    "# Headline for my demo\n",
    "Normal text **bold** *italics*\n",
    "* List \n",
    "* list 2\n",
    "\n",
    "Latex $f(x) = \\frac{1}{\\sin(\\pi x)}$\n",
    "$$f(x) = \\frac{1}{\\sin(\\pi x)}$$"
   ]
  },
  {
   "cell_type": "code",
   "execution_count": 4,
   "metadata": {},
   "outputs": [
    {
     "name": "stdout",
     "output_type": "stream",
     "text": [
      "John is 19 years old.\n",
      "John is 21 years old.\n",
      "John is 23 years old.\n",
      "John is 25 years old.\n",
      "John is 27 years old.\n",
      "John is 29 years old.\n",
      "John is 31 years old.\n",
      "John is 33 years old.\n",
      "John is 35 years old.\n",
      "John is 37 years old.\n",
      "John is 39 years old.\n",
      "John is 41 years old.\n",
      "John is 43 years old.\n",
      "John is 45 years old.\n",
      "John is 47 years old.\n",
      "John is 49 years old.\n",
      "John is 51 years old.\n",
      "John is 53 years old.\n"
     ]
    }
   ],
   "source": [
    "for i in range (19, 55):\n",
    "    if i % 2 == 0:\n",
    "        continue\n",
    "    print('John is {} years old.'.format(i))"
   ]
  },
  {
   "cell_type": "code",
   "execution_count": 1,
   "metadata": {},
   "outputs": [
    {
     "ename": "ModuleNotFoundError",
     "evalue": "No module named 'matplot.pyplot'",
     "output_type": "error",
     "traceback": [
      "\u001b[0;31m---------------------------------------------------------------------------\u001b[0m",
      "\u001b[0;31mModuleNotFoundError\u001b[0m                       Traceback (most recent call last)",
      "\u001b[0;32m<ipython-input-1-711549e6a471>\u001b[0m in \u001b[0;36m<module>\u001b[0;34m\u001b[0m\n\u001b[0;32m----> 1\u001b[0;31m \u001b[0;32mimport\u001b[0m \u001b[0mmatplot\u001b[0m\u001b[0;34m.\u001b[0m\u001b[0mpyplot\u001b[0m \u001b[0;32mas\u001b[0m \u001b[0mplt\u001b[0m\u001b[0;34m\u001b[0m\u001b[0;34m\u001b[0m\u001b[0m\n\u001b[0m\u001b[1;32m      2\u001b[0m \u001b[0;34m\u001b[0m\u001b[0m\n\u001b[1;32m      3\u001b[0m \u001b[0mdata\u001b[0m \u001b[0;34m=\u001b[0m \u001b[0;34m[\u001b[0m\u001b[0;36m0\u001b[0m\u001b[0;34m,\u001b[0m\u001b[0;36m1\u001b[0m\u001b[0;34m,\u001b[0m\u001b[0;36m5\u001b[0m\u001b[0;34m,\u001b[0m\u001b[0;36m12\u001b[0m\u001b[0;34m,\u001b[0m\u001b[0;34m]\u001b[0m\u001b[0;34m\u001b[0m\u001b[0;34m\u001b[0m\u001b[0m\n",
      "\u001b[0;31mModuleNotFoundError\u001b[0m: No module named 'matplot.pyplot'"
     ]
    }
   ],
   "source": [
    "import matplot.pyplot as plt\n",
    "\n",
    "data = [0,1,5,12,22]"
   ]
  },
  {
   "cell_type": "code",
   "execution_count": null,
   "metadata": {},
   "outputs": [],
   "source": []
  }
 ],
 "metadata": {
  "kernelspec": {
   "display_name": "Python 3",
   "language": "python",
   "name": "python3"
  },
  "language_info": {
   "codemirror_mode": {
    "name": "ipython",
    "version": 3
   },
   "file_extension": ".py",
   "mimetype": "text/x-python",
   "name": "python",
   "nbconvert_exporter": "python",
   "pygments_lexer": "ipython3",
   "version": "3.6.9"
  }
 },
 "nbformat": 4,
 "nbformat_minor": 2
}
