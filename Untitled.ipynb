{
 "cells": [
  {
   "cell_type": "markdown",
   "metadata": {},
   "source": [
    "# Headline for my demo\n",
    "Normal text **bold** *italics*\n",
    "* List \n",
    "* list 2\n",
    "\n",
    "Latex $f(x) = \\frac{1}{\\sin(\\pi x)}$\n",
    "$$f(x) = \\frac{1}{\\sin(\\pi x)}$$"
   ]
  },
  {
   "cell_type": "code",
   "execution_count": 1,
   "metadata": {},
   "outputs": [
    {
     "name": "stdout",
     "output_type": "stream",
     "text": [
      "John is 19 years old.\n",
      "John is 21 years old.\n",
      "John is 23 years old.\n",
      "John is 25 years old.\n",
      "John is 27 years old.\n",
      "John is 29 years old.\n",
      "John is 31 years old.\n",
      "John is 33 years old.\n",
      "John is 35 years old.\n",
      "John is 37 years old.\n",
      "John is 39 years old.\n",
      "John is 41 years old.\n",
      "John is 43 years old.\n",
      "John is 45 years old.\n",
      "John is 47 years old.\n",
      "John is 49 years old.\n",
      "John is 51 years old.\n",
      "John is 53 years old.\n"
     ]
    }
   ],
   "source": [
    "for i in range (19, 55):\n",
    "    if i % 2 == 0:\n",
    "        continue\n",
    "    print('John is {} years old.'.format(i))"
   ]
  },
  {
   "cell_type": "code",
   "execution_count": 2,
   "metadata": {},
   "outputs": [
    {
     "data": {
      "text/plain": [
       "[<matplotlib.lines.Line2D at 0x7ff9ac695470>]"
      ]
     },
     "execution_count": 2,
     "metadata": {},
     "output_type": "execute_result"
    },
    {
     "data": {
      "image/png": "[encoded data removed]",
      "text/plain": [
       "<Figure size 432x288 with 1 Axes>"
      ]
     },
     "metadata": {
      "needs_background": "light"
     },
     "output_type": "display_data"
    }
   ],
   "source": [
    "import matplotlib.pyplot as plt\n",
    "\n",
    "data = [0,1,5,12,22]\n",
    "\n",
    "plt.plot(data)"
   ]
  },
  {
   "cell_type": "code",
   "execution_count": null,
   "metadata": {},
   "outputs": [],
   "source": [
    "import numpy as np\n",
    "\n",
    "np.cumsum"
   ]
  }
 ],
 "metadata": {
  "kernelspec": {
   "display_name": "Python 3",
   "language": "python",
   "name": "python3"
  },
  "language_info": {
   "codemirror_mode": {
    "name": "ipython",
    "version": 3
   },
   "file_extension": ".py",
   "mimetype": "text/x-python",
   "name": "python",
   "nbconvert_exporter": "python",
   "pygments_lexer": "ipython3",
   "version": "3.6.9"
  }
 },
 "nbformat": 4,
 "nbformat_minor": 2
}
